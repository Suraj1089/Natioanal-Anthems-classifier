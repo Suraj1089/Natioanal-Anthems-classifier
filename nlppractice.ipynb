{
 "cells": [
  {
   "cell_type": "code",
   "execution_count": 2,
   "metadata": {},
   "outputs": [],
   "source": [
    "text = '''\n",
    "    Hello how are you?,are you fine, now/ may i help you for this. ok shour.\n",
    "'''\n",
    "import nltk\n",
    "import pandas as pd \n",
    "# nltk.download_shell()"
   ]
  }
 ],
 "metadata": {
  "kernelspec": {
   "display_name": "Python 3.8.2 ('env': venv)",
   "language": "python",
   "name": "python3"
  },
  "language_info": {
   "codemirror_mode": {
    "name": "ipython",
    "version": 3
   },
   "file_extension": ".py",
   "mimetype": "text/x-python",
   "name": "python",
   "nbconvert_exporter": "python",
   "pygments_lexer": "ipython3",
   "version": "3.8.2"
  },
  "orig_nbformat": 4,
  "vscode": {
   "interpreter": {
    "hash": "5a305af18df278a605dc68714a07080a4c3839c3037f491fdc22e87dca83029c"
   }
  }
 },
 "nbformat": 4,
 "nbformat_minor": 2
}
